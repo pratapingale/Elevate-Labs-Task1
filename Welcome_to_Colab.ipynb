{
  "cells": [
    {
      "cell_type": "code",
      "source": [
        "# Step 1: Import required libraries\n",
        "import pandas as pd\n",
        "\n",
        "# Step 2: Load the dataset\n",
        "file_path = \"/content/netflix_titles.csv\"  # path for your uploaded file\n",
        "df = pd.read_csv(file_path)\n",
        "\n",
        "# Step 3: Initial inspection\n",
        "print(\"Initial Shape:\", df.shape)\n",
        "print(\"\\nMissing values:\\n\", df.isnull().sum())\n",
        "print(\"\\nDuplicate Rows:\", df.duplicated().sum())\n",
        "\n",
        "# Step 4: Remove duplicate rows\n",
        "df = df.drop_duplicates()\n",
        "\n",
        "# Step 5: Handle missing values\n",
        "# Example strategy: Drop rows where essential fields are missing\n",
        "df = df.dropna(subset=['title'])  # keep rows where 'title' is not null\n",
        "# Fill other missing fields (example: fill missing 'country' with 'Unknown')\n",
        "df['country'] = df['country'].fillna('Unknown')\n",
        "df['cast'] = df['cast'].fillna('Not Available')\n",
        "df['director'] = df['director'].fillna('Not Available')\n",
        "df['rating'] = df['rating'].fillna('Not Rated')\n",
        "\n",
        "# Step 6: Standardize text fields\n",
        "df['type'] = df['type'].str.strip().str.lower()\n",
        "df['country'] = df['country'].str.strip().str.title()\n",
        "df['rating'] = df['rating'].str.strip().str.upper()\n",
        "\n",
        "# Step 7: Convert dates to consistent format\n",
        "df['date_added'] = pd.to_datetime(df['date_added'], errors='coerce')\n",
        "\n",
        "# Step 8: Clean column headers\n",
        "df.columns = df.columns.str.strip().str.lower().str.replace(\" \", \"_\")\n",
        "\n",
        "# Step 9: Check & fix data types (example: ensure correct types)\n",
        "# 'release_year' should be int, 'date_added' should be datetime (already converted)\n",
        "df['release_year'] = pd.to_numeric(df['release_year'], errors='coerce').astype(\"Int64\")\n",
        "\n",
        "# Step 10: Final check\n",
        "print(\"\\nFinal Shape:\", df.shape)\n",
        "print(\"\\nFinal Data Types:\\n\", df.dtypes)\n",
        "\n",
        "# Step 11: Save cleaned data\n",
        "df.to_csv(\"cleaned_netflix_titles.csv\", index=False)\n",
        "print(\"\\n✅ Cleaned dataset saved as 'cleaned_netflix_titles.csv'\")\n"
      ],
      "metadata": {
        "id": "VHkB2W9lAgjI",
        "outputId": "e86194f4-14fb-43c5-d6f7-2cbd3471f70a",
        "colab": {
          "base_uri": "https://localhost:8080/"
        }
      },
      "execution_count": 1,
      "outputs": [
        {
          "output_type": "stream",
          "name": "stdout",
          "text": [
            "Initial Shape: (8807, 12)\n",
            "\n",
            "Missing values:\n",
            " show_id            0\n",
            "type               0\n",
            "title              0\n",
            "director        2634\n",
            "cast             825\n",
            "country          831\n",
            "date_added        10\n",
            "release_year       0\n",
            "rating             4\n",
            "duration           3\n",
            "listed_in          0\n",
            "description        0\n",
            "dtype: int64\n",
            "\n",
            "Duplicate Rows: 0\n",
            "\n",
            "Final Shape: (8807, 12)\n",
            "\n",
            "Final Data Types:\n",
            " show_id                 object\n",
            "type                    object\n",
            "title                   object\n",
            "director                object\n",
            "cast                    object\n",
            "country                 object\n",
            "date_added      datetime64[ns]\n",
            "release_year             Int64\n",
            "rating                  object\n",
            "duration                object\n",
            "listed_in               object\n",
            "description             object\n",
            "dtype: object\n",
            "\n",
            "✅ Cleaned dataset saved as 'cleaned_netflix_titles.csv'\n"
          ]
        }
      ]
    },
    {
      "cell_type": "code",
      "source": [],
      "metadata": {
        "id": "ARBDmaHYAis1"
      },
      "execution_count": null,
      "outputs": []
    }
  ],
  "metadata": {
    "colab": {
      "name": "Welcome to Colab",
      "provenance": []
    },
    "kernelspec": {
      "display_name": "Python 3",
      "name": "python3"
    }
  },
  "nbformat": 4,
  "nbformat_minor": 0
}